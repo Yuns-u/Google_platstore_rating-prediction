{
  "nbformat": 4,
  "nbformat_minor": 0,
  "metadata": {
    "colab": {
      "name": "Google_playstore_rating_prediction.ipynb",
      "private_outputs": true,
      "provenance": [],
      "toc_visible": true,
      "mount_file_id": "1oYlawQqtyWkdjsaJ_eaRMPahnIdpTFKc",
      "authorship_tag": "ABX9TyNC2/mNcJN40gGMgrn6/Z3W",
      "include_colab_link": true
    },
    "kernelspec": {
      "name": "python3",
      "display_name": "Python 3"
    },
    "language_info": {
      "name": "python"
    }
  },
  "cells": [
    {
      "cell_type": "markdown",
      "metadata": {
        "id": "view-in-github",
        "colab_type": "text"
      },
      "source": [
        "<a href=\"https://colab.research.google.com/github/Yuns-u/Google_platstore_rating-prediction/blob/main/Google_playstore_rating_prediction.ipynb\" target=\"_parent\"><img src=\"https://colab.research.google.com/assets/colab-badge.svg\" alt=\"Open In Colab\"/></a>"
      ]
    },
    {
      "cell_type": "markdown",
      "metadata": {
        "id": "0MQj5EvDCsMN"
      },
      "source": [
        "# 분석 대상: Google Play Store의 application\n",
        "\n"
      ]
    },
    {
      "cell_type": "markdown",
      "metadata": {
        "id": "5vB3bbgwr8g1"
      },
      "source": [
        "## 데이터 선정 이유 및 문제 정의\n",
        "구글 플레이스토어는 국내 94%의 스마트폰 이용자들이 사용하고 있는 스토어이기 때문에 구글 플레이스토어에 앱을 런칭한다면 높은 평점(rating)과 긍정적인 리뷰들을 많이 가지고 있는 것이 유리할 것이다.\n",
        "\n",
        "해당 데이터는 2018년까지 출시된 앱들의 일부로 구글 플레이스토어의 정량적인 지표들로 구성되어 있다. 이 데이터를 전처리를 하며 살펴본 뒤 평점을 예측하는 머신러닝 모델을 만들어보고자 한다.\n"
      ]
    },
    {
      "cell_type": "code",
      "metadata": {
        "id": "8fo_jSbelx-N"
      },
      "source": [
        "# 필요한 라이브러리 불러오기\n",
        "!pip install category_encoders"
      ],
      "execution_count": null,
      "outputs": []
    },
    {
      "cell_type": "code",
      "metadata": {
        "id": "Wy7jjOlalqU6"
      },
      "source": [
        "import pandas as pd\n",
        "import numpy as np\n",
        "\n",
        "# 시각화\n",
        "import matplotlib.pyplot as plt\n",
        "import seaborn as sns\n",
        "%matplotlib inline \n",
        "#plt.show를 하지 않아도 된다.\n",
        "\n",
        "# 사이킷런 - 데이터셋 나누기\n",
        "from sklearn.model_selection import train_test_split\n",
        "\n",
        "# 사이킷런 - encoders, imputers\n",
        "from category_encoders import OneHotEncoder\n",
        "from category_encoders import OrdinalEncoder\n",
        "from sklearn.impute import SimpleImputer\n",
        "\n",
        "# 정규화해주기\n",
        "from sklearn.preprocessing import StandardScaler\n",
        "\n",
        "# 사이킷런 - pipeline\n",
        "from sklearn.pipeline import make_pipeline\n",
        "\n",
        "# 사이킷런 - 학습모델\n",
        "from sklearn.ensemble import RandomForestClassifier\n",
        "from sklearn.linear_model import LogisticRegression\n",
        "from sklearn.linear_model import Ridge\n",
        "from sklearn.linear_model import LinearRegression\n",
        "\n",
        "\n",
        "# 사이킷런 - 모델 평가지표\n",
        "from sklearn.metrics import accuracy_score\n",
        "from sklearn.metrics import f1_score\n",
        "from sklearn.metrics import classification_report"
      ],
      "execution_count": null,
      "outputs": []
    },
    {
      "cell_type": "code",
      "metadata": {
        "id": "JK_K09Hclqo0"
      },
      "source": [
        "df = pd.read_csv('/content/drive/MyDrive/Colab Notebooks/googleplaystore.csv')"
      ],
      "execution_count": null,
      "outputs": []
    },
    {
      "cell_type": "markdown",
      "metadata": {
        "id": "PzVdLk4tl-Xu"
      },
      "source": [
        "# EDA"
      ]
    },
    {
      "cell_type": "code",
      "metadata": {
        "id": "jtUMkZj1mAMC"
      },
      "source": [
        "df.shape"
      ],
      "execution_count": null,
      "outputs": []
    },
    {
      "cell_type": "code",
      "metadata": {
        "id": "399d0p2mmDhd"
      },
      "source": [
        "df.head()"
      ],
      "execution_count": null,
      "outputs": []
    },
    {
      "cell_type": "markdown",
      "metadata": {
        "id": "IkyYXQNUvxE-"
      },
      "source": [
        "- 'Size'의 기호를 통일시켜 없애기\n",
        "- 'Installs'의 기호를 없애고 등급으로 나눠주기\n",
        "- 'Price' 기호 통일해서 없애기"
      ]
    },
    {
      "cell_type": "code",
      "metadata": {
        "id": "L4-ZVfTknHwh"
      },
      "source": [
        "df.info()"
      ],
      "execution_count": null,
      "outputs": []
    },
    {
      "cell_type": "code",
      "metadata": {
        "id": "UreboEK7nKBQ"
      },
      "source": [
        "df.describe()"
      ],
      "execution_count": null,
      "outputs": []
    },
    {
      "cell_type": "code",
      "metadata": {
        "id": "z0OdAHyioH7x"
      },
      "source": [
        "#결측치 확인\n",
        "df.isna().sum()"
      ],
      "execution_count": null,
      "outputs": []
    },
    {
      "cell_type": "code",
      "metadata": {
        "id": "Phwid3-r0w0G"
      },
      "source": [
        "#중복값 확인\n",
        "df.duplicated().value_counts()"
      ],
      "execution_count": null,
      "outputs": []
    },
    {
      "cell_type": "code",
      "metadata": {
        "id": "2YMPfa2PBrRd"
      },
      "source": [
        "df[df.duplicated()]"
      ],
      "execution_count": null,
      "outputs": []
    },
    {
      "cell_type": "code",
      "metadata": {
        "id": "Y_3pPMVkB75t"
      },
      "source": [
        "#중복값들을 없애준다. \n",
        "df = df[~df.duplicated()]\n",
        "df.duplicated().value_counts()"
      ],
      "execution_count": null,
      "outputs": []
    },
    {
      "cell_type": "code",
      "metadata": {
        "id": "3YQtlRv-mt2z"
      },
      "source": [
        "df.columns"
      ],
      "execution_count": null,
      "outputs": []
    },
    {
      "cell_type": "markdown",
      "metadata": {
        "id": "Dnp_plDVXe8N"
      },
      "source": [
        "# Column별 Data Cleaning"
      ]
    },
    {
      "cell_type": "code",
      "metadata": {
        "id": "ZTFl50eC6K4E"
      },
      "source": [
        "#각 feature를 산점도로 봐보기\n",
        "from pandas.plotting import scatter_matrix\n",
        "\n",
        "scatter_matrix(df, alpha=0.5, figsize=(20, 20), diagonal='kde')\n",
        "plt.show()"
      ],
      "execution_count": null,
      "outputs": []
    },
    {
      "cell_type": "markdown",
      "metadata": {
        "id": "n6UJ_S1dmw2Q"
      },
      "source": [
        "## column: 'App'\n",
        "Application name, \n",
        "어플리케이션의 이름. 'App'은 각각의 어플리케이션을 구분하게 하는 ID의 역할을 한다."
      ]
    },
    {
      "cell_type": "code",
      "metadata": {
        "id": "eZih7dfLnBRs"
      },
      "source": [
        "df['App'].head()"
      ],
      "execution_count": null,
      "outputs": []
    },
    {
      "cell_type": "markdown",
      "metadata": {
        "id": "S-Cohuifp9S0"
      },
      "source": [
        "## column: 'Category'"
      ]
    },
    {
      "cell_type": "code",
      "metadata": {
        "id": "b-FgomDkqChS"
      },
      "source": [
        "df['Category'].value_counts()"
      ],
      "execution_count": null,
      "outputs": []
    },
    {
      "cell_type": "markdown",
      "metadata": {
        "id": "dXsu8YZ0YhvI"
      },
      "source": [
        "genre의 분류표\n",
        "\n",
        "카테고리 안에 장르가 포함된다. 하위 분류로서의 기능을 한다고 볼 수 있다.\n",
        "\n",
        "'Art & Design', 'Auto & Vehicles', 'Beauty', 'Books & Reference',\n",
        "       'Business', 'Comics', 'Communication', 'Dating', 'Education',\n",
        "       'Entertainment', 'Events', 'Finance', 'Food & Drink',\n",
        "       'Health & Fitness', 'House & Home', 'Libraries & Demo',\n",
        "       'Lifestyle', 'Adventure', 'Arcade', 'Casual', 'Card', 'Action',\n",
        "       'Strategy', 'Puzzle', 'Sports', 'Music', 'Word', 'Racing',\n",
        "       'Simulation', 'Board', 'Trivia', 'Role Playing', 'Educational',\n",
        "       'Music & Audio', 'Video Players & Editors', 'Medical', 'Social',\n",
        "       'Shopping', 'Photography', 'Travel & Local', 'Tools',\n",
        "       'Personalization', 'Productivity', 'Parenting', 'Weather',\n",
        "       'News & Magazines', 'Maps & Navigation', 'Casino'"
      ]
    },
    {
      "cell_type": "code",
      "metadata": {
        "id": "KWQ9And9Yq7B"
      },
      "source": [
        "#_AND_를 &으로 바꿔줘도 좋을 듯. (가독성도 좋아질 듯하다)\n",
        "#안된다.\n",
        "#df['Category'] = df.loc[df['Category']=='HEALTH_AND_FITNESS'].replace('HEALTH_AND_FITNESS','HEALTH & FITNESS')\n",
        "#df['Category'] = df.loc[df['Category']=='NEWS_AND_MAGAZINES'].replace('NEWS_AND_MAGAZINES','NEWS & MAGAZINES')\n",
        "#df['Category'] = df.loc[df['Category']=='TRAVEL_AND_LOCAL'].replace('TRAVEL_AND_LOCAL','TRAVEL & LOCAL')\n",
        "#df['Category'] = df.loc[df['Category']=='BOOKS_AND_REFERENCE'].replace('BOOKS_AND_REFERENCE','BOOKS & REFERENCE')\n",
        "#df['Category'] = df.loc[df['Category']=='MAPS_AND_NAVIGATION'].replace('MAPS_AND_NAVIGATION','MAPS & NAVIGATION')\n",
        "#df['Category'] = df.loc[df['Category']=='FOOD_AND_DRINK'].replace('FOOD_AND_DRINK','FOOD & DRINK ')\n",
        "#df['Category'] = df.loc[df['Category']=='AUTO_AND_VEHICLES'].replace('AUTO_AND_VEHICLES','AUTO & VEHICLES')\n",
        "#df['Category'] = df.loc[df['Category']=='LIBRARIES_AND_DEMO'].replace('LIBRARIES_AND_DEMO','LIBRARIES & DEMO')\n",
        "#df['Category'] = df.loc[df['Category']=='HOUSE_AND_HOME'].replace('HOUSE_AND_HOME','HOUSE & HOME')\n",
        "#df['Category'] = df.loc[df['Category']=='ART_AND_DESIGN'].replace('ART_AND_DESIGN','ART & DESIGN')"
      ],
      "execution_count": null,
      "outputs": []
    },
    {
      "cell_type": "code",
      "metadata": {
        "id": "j-8b47hjs-O7"
      },
      "source": [
        "#카테고리에 1.9로 잘못 써진 게 있는 듯\n",
        "df.loc[df['Category']=='1.9']"
      ],
      "execution_count": null,
      "outputs": []
    },
    {
      "cell_type": "code",
      "metadata": {
        "id": "IoxER50aARe4"
      },
      "source": [
        "#위의 값은 카테고리 항이 누락되면서 한칸씩 앞으로 빠진 케이스.\n",
        "#여기에서 바꿔준다.\n",
        "\n",
        "df.at[10472,'Category'] = 'LIFESTYLE'\n",
        "df.at[10472,'Rating'] = 1.9\n",
        "df.at[10472,'Reviews'] = 19.0\t\n",
        "df.at[10472,'Size'] = '3.0M'\n",
        "df.at[10472,'Installs'] = '1,000+'\n",
        "df.at[10472,'Type'] = 'Free'\n",
        "df.at[10472,'Price'] = 0\n",
        "df.at[10472,'Content Rating'] = 'Everyone'\n",
        "df.at[10472,'Genres'] = 'Lifestyle'\n",
        "df.at[10472,'Last Updated'] = 'February 11, 2018'\n",
        "df.at[10472,'Current Ver'] = '1.0.19'\n",
        "df.at[10472,'Android Ver'] = '4.0 and up'"
      ],
      "execution_count": null,
      "outputs": []
    },
    {
      "cell_type": "code",
      "metadata": {
        "id": "D2RI-jlx7VP2"
      },
      "source": [
        "df['Category'].value_counts().plot(kind='bar')\n",
        "\n",
        "plt.title('number of apps for categories in google playstore')"
      ],
      "execution_count": null,
      "outputs": []
    },
    {
      "cell_type": "code",
      "metadata": {
        "id": "Fq6jHrYGnDYw"
      },
      "source": [
        "sns.set(rc={'figure.figsize':(20,10)}, font_scale=1.5, style='whitegrid')\n",
        "ax = sns.boxplot(x=\"Category\",y=\"Rating\",data=df)\n",
        "labels = ax.set_xticklabels(ax.get_xticklabels(), rotation=45,ha='right')"
      ],
      "execution_count": null,
      "outputs": []
    },
    {
      "cell_type": "markdown",
      "metadata": {
        "id": "XLTNpLTczHVF"
      },
      "source": [
        "## column: 'Rating'\n",
        "Overall user rating of the app (as when scraped)\n",
        "\n",
        "Play 스토어의 앱 평점 및 별표 1, 2, 3, 4, 5개 리뷰의 개수에 따라 표시되는 막대그래프는 앱의 평가 횟수가 매우 적은 경우가 아니라면 사용자 리뷰의 전체 기간 평균값이 아닌 앱의 현재 품질 평점을 바탕으로 합니다. (구글 플레이 공식 문서)"
      ]
    },
    {
      "cell_type": "code",
      "metadata": {
        "id": "Jn_YozqZF1a5"
      },
      "source": [
        "#결측치가 가장 많았던 칼럼이다.\n",
        "#분포를 먼저 살펴보자.\n",
        "\n",
        "from pylab import rcParams\n",
        "\n",
        "# rating distibution \n",
        "rcParams['figure.figsize'] = 11.7,8.27\n",
        "g = sns.kdeplot(df.Rating, color=\"Red\", shade = True)\n",
        "g.set_xlabel(\"Rating\")\n",
        "g.set_ylabel(\"Frequency\")\n",
        "plt.title('Distribution of Rating',size = 20)"
      ],
      "execution_count": null,
      "outputs": []
    },
    {
      "cell_type": "code",
      "metadata": {
        "id": "FzeZBF8PG2UR"
      },
      "source": [
        "#구글 스토어에는 0~5점으로 표현할 수 있는 것으로 알고 있다.\n",
        "df['Rating'].describe()"
      ],
      "execution_count": null,
      "outputs": []
    },
    {
      "cell_type": "code",
      "metadata": {
        "id": "A83AlA-DHWiY"
      },
      "source": [
        "#1.9가 19.0으로 입력된 것으로 보인다.\n",
        "#구글 플레이스토어 2021년 8월 31일에 확인해보니 2.7점이긴하지만 해당 데이터는 3년 전에 업데이트된 데이터이므로 2018년 데이터임.\n",
        "#위의 값을 보니 한 칸씩 밀린 것 같아서 여기에서 수정해야겠다. (위에서 수정함)"
      ],
      "execution_count": null,
      "outputs": []
    },
    {
      "cell_type": "code",
      "metadata": {
        "id": "xsHvFOjNONxG"
      },
      "source": [
        "#결측치 처리\n",
        "#여기에서 결측치는 자료가 없거나 출시된지 얼마 되지 않아서 평가가 되지 않았을 가능성이 있다.\n",
        "#무작정 결측치를 없애면 안될 것.\n",
        "rating_null = df[df.Rating.isnull()]\n",
        "rating_null"
      ],
      "execution_count": null,
      "outputs": []
    },
    {
      "cell_type": "code",
      "metadata": {
        "id": "H-Lmhmm7UvM3"
      },
      "source": [
        "df['Rating'] = df['Rating'].fillna(0)"
      ],
      "execution_count": null,
      "outputs": []
    },
    {
      "cell_type": "code",
      "metadata": {
        "id": "IIDsmF25jHb3"
      },
      "source": [
        "# rating distibution \n",
        "rcParams['figure.figsize'] = 11.7,8.27\n",
        "g = sns.kdeplot(df.Rating, color=\"Red\", shade = True)\n",
        "g.set_xlabel(\"Rating\")\n",
        "g.set_ylabel(\"Frequency\")\n",
        "plt.title('Distribution of Rating',size = 20)"
      ],
      "execution_count": null,
      "outputs": []
    },
    {
      "cell_type": "code",
      "metadata": {
        "id": "lGJkIBkrvEov"
      },
      "source": [
        "df['Rating'].describe()"
      ],
      "execution_count": null,
      "outputs": []
    },
    {
      "cell_type": "code",
      "metadata": {
        "id": "D8mW4vjNEOjV"
      },
      "source": [
        "#평균적으로 4점대인 것을 보니 인심이 후하다.\n",
        "#목표 점수를 4점 혹은 그 이상으로 잡아도 좋을 듯."
      ],
      "execution_count": null,
      "outputs": []
    },
    {
      "cell_type": "markdown",
      "metadata": {
        "id": "Go7qUULszL18"
      },
      "source": [
        "## column: 'Reviews'\n",
        "\n",
        "Number of user reviews for the app (as when scraped)\n",
        "리뷰의 개수."
      ]
    },
    {
      "cell_type": "code",
      "metadata": {
        "id": "nwlZ5t8FX7FA"
      },
      "source": [
        "df['Reviews']"
      ],
      "execution_count": null,
      "outputs": []
    },
    {
      "cell_type": "code",
      "metadata": {
        "id": "qdLkLApYF6KM"
      },
      "source": [
        "df['Reviews'].describe()"
      ],
      "execution_count": null,
      "outputs": []
    },
    {
      "cell_type": "code",
      "metadata": {
        "id": "ypaBtUEDEd_L"
      },
      "source": [
        "df['Reviews'].isna().sum()"
      ],
      "execution_count": null,
      "outputs": []
    },
    {
      "cell_type": "code",
      "metadata": {
        "id": "4zEtzvWjVksp"
      },
      "source": [
        "#리뷰의 dtype가 object이므로 전부 연속형 수치형으로 바꿔준다.\n",
        "#문자형이 섞여있는 모양.\n",
        "#df['Reviews'] = df['Reviews'].apply(lambda x: int(x))"
      ],
      "execution_count": null,
      "outputs": []
    },
    {
      "cell_type": "code",
      "metadata": {
        "id": "GWYnXuxre1IN"
      },
      "source": [
        "#df['Reviews']를 int형으로 바꾸기\n",
        "df['Reviews'] = df['Reviews'].astype(int)"
      ],
      "execution_count": null,
      "outputs": []
    },
    {
      "cell_type": "code",
      "metadata": {
        "id": "0qaFwgT_h9EI"
      },
      "source": [
        "df['Reviews']"
      ],
      "execution_count": null,
      "outputs": []
    },
    {
      "cell_type": "code",
      "metadata": {
        "id": "Gh-nk7evvcy9"
      },
      "source": [
        "df['Reviews'].describe()"
      ],
      "execution_count": null,
      "outputs": []
    },
    {
      "cell_type": "code",
      "metadata": {
        "id": "Sqx9xUych1rJ"
      },
      "source": [
        "#descirbe를 하면 float 형태로 나온다.\n",
        "\n",
        "print('Reviews count: ',df['Reviews'].count())\n",
        "print('Reviews mean: ',df['Reviews'].mean())\n",
        "print('Reviews std: ',df['Reviews'].std())\n",
        "print('Reviews min: ',df['Reviews'].min())\n",
        "print('Reviews max: ',df['Reviews'].max())\n",
        "print('Reviews 1Q(25%): ',df['Reviews'].quantile(.25))\n",
        "print('Reviews 2Q(50%): ',df['Reviews'].quantile(.50)) \n",
        "print('Reviews 3Q(75%): ',df['Reviews'].quantile(.75)) "
      ],
      "execution_count": null,
      "outputs": []
    },
    {
      "cell_type": "code",
      "metadata": {
        "id": "XFBo3fgvz7zR"
      },
      "source": [
        "#e+###형식으로 출력되지 않도록 할 수 있다.\n",
        "pd.set_option('display.float_format', lambda x: '%.5f' % x)\n",
        "\n",
        "df['Reviews'].describe()"
      ],
      "execution_count": null,
      "outputs": []
    },
    {
      "cell_type": "code",
      "metadata": {
        "id": "EYTYRIuF2Uh4"
      },
      "source": [
        "df['Reviews'] = df['Reviews'].apply(lambda x: int(x))"
      ],
      "execution_count": null,
      "outputs": []
    },
    {
      "cell_type": "code",
      "metadata": {
        "id": "nh3Zju3ae7cg"
      },
      "source": [
        "# reviews distibution \n",
        "rcParams['figure.figsize'] = 11.7,8.27\n",
        "g = sns.kdeplot(df.Reviews, color=\"Green\", shade = True)\n",
        "g.set_xlabel(\"Reviews\")\n",
        "g.set_ylabel(\"Frequency\")\n",
        "plt.title('Distribution of Reveiws',size = 20)"
      ],
      "execution_count": null,
      "outputs": []
    },
    {
      "cell_type": "code",
      "metadata": {
        "id": "u4pSrrsBv859"
      },
      "source": [
        "#박스 플롯이 더 정확할 것 같다. (시도해봤지만 리뷰의 수가 너무 다양하기 때문에 적절하지 않음)\n",
        "#산점도가 더 정확할 것 같다.\n",
        "sns.scatterplot(x = 'Rating', y= 'Reviews', data = df)\n",
        "plt.title('Reviews scatterplot sorted by Rating(0~5)')\n",
        "plt.show()"
      ],
      "execution_count": null,
      "outputs": []
    },
    {
      "cell_type": "code",
      "metadata": {
        "id": "c59MD75GaDn9"
      },
      "source": [
        "#정성적인 지표인 review를 볼 땨는 4점 이상 정도는 되어야 충분한 표본을 얻을 수 있을 것이다."
      ],
      "execution_count": null,
      "outputs": []
    },
    {
      "cell_type": "markdown",
      "metadata": {
        "id": "S1JdPFGtzQF1"
      },
      "source": [
        "## column:'Size'\n",
        "Size of the app (as when scraped)"
      ]
    },
    {
      "cell_type": "code",
      "metadata": {
        "id": "fl6QZQBARluG"
      },
      "source": [
        "df['Size'].unique()"
      ],
      "execution_count": null,
      "outputs": []
    },
    {
      "cell_type": "code",
      "metadata": {
        "id": "lHditwJwzhA-"
      },
      "source": [
        "#dtype: int64로 나온다. 왜??\n",
        "df['Size'].value_counts()"
      ],
      "execution_count": null,
      "outputs": []
    },
    {
      "cell_type": "code",
      "metadata": {
        "id": "lAxFRi9qBKSi"
      },
      "source": [
        "df['Size'].describe()"
      ],
      "execution_count": null,
      "outputs": []
    },
    {
      "cell_type": "code",
      "metadata": {
        "id": "wMtpFGpk1XJC"
      },
      "source": [
        "#'Varies with device'를 결측치로 바꿔야 수치형으로 바꿀 수 있을 것이다.\n",
        "# 용량이기 때문에 매출과 큰 상관관계는 없겠지만 결측치에 카테고리별 평균적인 용량(중앙값)을 넣어주면 어떨까 싶다.\n",
        "#df['Size'] = df['Size'].replace('Varies with device', np.nan)"
      ],
      "execution_count": null,
      "outputs": []
    },
    {
      "cell_type": "code",
      "metadata": {
        "id": "WN3cofbrzqpp"
      },
      "source": [
        "#k = 1000 = 10**3\n",
        "#M = 1000000 = 10**6\n",
        "#소문자 m과 대문자 K는 없음.\n",
        "\n",
        "#Cannot compare types 'ndarray(dtype=int64)' and 'str'\n",
        "#df['Size'] = (df['Size'].replace(r'[kM]', '', regex=True).astype(float) * \\\n",
        "#              df['Size'].str.extract(r'[\\d\\.]+([KM]+)', expand=False)\n",
        "#              .fillna(1)\n",
        "#              .replace(['k','M'], [10**3, 10**6].astype(int)))"
      ],
      "execution_count": null,
      "outputs": []
    },
    {
      "cell_type": "code",
      "metadata": {
        "id": "yg3T3UU3Cel0"
      },
      "source": [
        "# Convert kbytes to Mbytes\n",
        "# 1M = 1000k\n",
        "\n",
        "k_indices = df['Size'].loc[df['Size'].str.contains('k')].index.tolist()\n",
        "\n",
        "converter = pd.DataFrame(df.loc[k_indices, 'Size'].apply(lambda x: x.strip('k')).astype(float).apply(lambda x: x / 1024).apply(lambda x: round(x, 3)).astype(str))\n",
        "\n",
        "df.loc[k_indices,'Size'] = converter"
      ],
      "execution_count": null,
      "outputs": []
    },
    {
      "cell_type": "code",
      "metadata": {
        "id": "5mjd7ffQI372"
      },
      "source": [
        "df['Size'] = df['Size'].apply(lambda x: x.strip('M'))\n",
        "df['Size'] = df['Size'].replace('Varies with device', 13) #전체 사이즈의 중앙값을 넣었다.\n",
        "df['Size'] = df['Size'].astype(float)"
      ],
      "execution_count": null,
      "outputs": []
    },
    {
      "cell_type": "code",
      "metadata": {
        "id": "Ft4iwjBlIr2q"
      },
      "source": [
        "df.head()"
      ],
      "execution_count": null,
      "outputs": []
    },
    {
      "cell_type": "code",
      "metadata": {
        "id": "0fpvizLpJBtd"
      },
      "source": [
        "df['Size'].describe()"
      ],
      "execution_count": null,
      "outputs": []
    },
    {
      "cell_type": "code",
      "metadata": {
        "id": "4_IxgoPLJJX8"
      },
      "source": [
        "df['Size'].value_counts()\n",
        "#0으로 된 부분은 평균값으로 넣어줘도 좋을 것 같다.\n",
        "#카테고리별 평균을 넣어주어도 좋을 것 같다."
      ],
      "execution_count": null,
      "outputs": []
    },
    {
      "cell_type": "markdown",
      "metadata": {
        "id": "6il_GLXAzUaY"
      },
      "source": [
        "## column: 'Installs'\n",
        "Number of user downloads/installs for the app (as when scraped)"
      ]
    },
    {
      "cell_type": "code",
      "metadata": {
        "id": "NwaxqZEs_Dky"
      },
      "source": [
        "#dtype: int64은 왜 나오는 건가?\n",
        "df['Installs'].value_counts()"
      ],
      "execution_count": null,
      "outputs": []
    },
    {
      "cell_type": "code",
      "metadata": {
        "id": "7x5J2qjv_Mlf"
      },
      "source": [
        "#+는 초과를 의미하는 듯.\n",
        "#그렇다면 0, 0+, 1+의 의미가 모호해진다.\n",
        "#매우 적은 다운로드 수를 가진 경우 하나로 묶어줄 수 있을 것 같다.\n",
        "df['Installs'] = df['Installs'].astype(str)\n",
        "df['Installs'] = df['Installs'].apply(lambda x: x.strip('+'))\n",
        "df['Installs'] = df['Installs'].apply(lambda x: x.replace(',',''))\n",
        "df['Installs'] = df['Installs'].replace('Free',np.nan)"
      ],
      "execution_count": null,
      "outputs": []
    },
    {
      "cell_type": "code",
      "metadata": {
        "id": "N7E38d1lFXX6"
      },
      "source": [
        "df['Installs'].value_counts()"
      ],
      "execution_count": null,
      "outputs": []
    },
    {
      "cell_type": "code",
      "metadata": {
        "id": "qLgcg8VUiqvx"
      },
      "source": [
        "df['Installs'] = df['Installs'].astype(float)"
      ],
      "execution_count": null,
      "outputs": []
    },
    {
      "cell_type": "code",
      "metadata": {
        "id": "5-LsNuUELEUm"
      },
      "source": [
        "#수치를 더 간단하게 표현할 수 있을 것 같다.\n",
        "#Sorted_value = sorted(list(df['Installs'].unique()))\n",
        "#df['Installs'].replace(Sorted_value,range(0,len(Sorted_value),1), inplace = True )"
      ],
      "execution_count": null,
      "outputs": []
    },
    {
      "cell_type": "code",
      "metadata": {
        "id": "yB8bihKTLS-5"
      },
      "source": [
        "#df['Installs'].head()\n",
        "#광고비 계산이 어려우므로 수치로 남겨둔다."
      ],
      "execution_count": null,
      "outputs": []
    },
    {
      "cell_type": "markdown",
      "metadata": {
        "id": "a1mMQU1VzZga"
      },
      "source": [
        "## column: 'Type'\n",
        "Paid or Free"
      ]
    },
    {
      "cell_type": "code",
      "metadata": {
        "id": "3XcUheXWLw5i"
      },
      "source": [
        "df['Type'].value_counts()"
      ],
      "execution_count": null,
      "outputs": []
    },
    {
      "cell_type": "code",
      "metadata": {
        "id": "vhEFcczGL2Gq"
      },
      "source": [
        "#free는 가격이 0일 것이며 매우 많음(광고를 더 넣는 식으로 수익 창출, 지명도 높히기)\n",
        "#paid는 유료앱, 더 깔끔한 편이며 구글 플레이스토어의 경우 앱스토어보다 유료앱이 적은 것으로 알고 있다.\n",
        "#바이너리로 바꿔주면 어떨까? 분류문제로 푼다면 이 타입을 사용해서 유료앱으로 낼 것인지, 무료앱으로 낼 것인지 알 수 있겠지만\n",
        "#광고비 등에 대한 매출지표가 없기 때문에(유료앱 제외) 분류문제로 풀기에 적합하지 않음.\n",
        "\n",
        "#또한 price 항목의 값이 0인 것과 tpye의 Free 값과 같다.\n",
        "#따라서 분류 문제로 풀지 않는 이상 Type은 없어도 되는 칼럼이다."
      ],
      "execution_count": null,
      "outputs": []
    },
    {
      "cell_type": "markdown",
      "metadata": {
        "id": "AHkXLBYQzdtZ"
      },
      "source": [
        "## column: 'Price'\n",
        "Price of the app (as when scraped)"
      ]
    },
    {
      "cell_type": "code",
      "metadata": {
        "id": "SL4i1o-DNbhx"
      },
      "source": [
        "#달러 기호가 없어야한다.\n",
        "df['Price'].unique()"
      ],
      "execution_count": null,
      "outputs": []
    },
    {
      "cell_type": "code",
      "metadata": {
        "id": "RE0CZekDyt21"
      },
      "source": [
        "df['Price'].value_counts()"
      ],
      "execution_count": null,
      "outputs": []
    },
    {
      "cell_type": "code",
      "metadata": {
        "id": "ilJ0nhws0NQP"
      },
      "source": [
        "df['Price'] = df['Price'].apply(lambda x: str(x))"
      ],
      "execution_count": null,
      "outputs": []
    },
    {
      "cell_type": "code",
      "metadata": {
        "id": "RRITiR0j4PlX"
      },
      "source": [
        "df['Price'].dtype"
      ],
      "execution_count": null,
      "outputs": []
    },
    {
      "cell_type": "code",
      "metadata": {
        "id": "1y1LSAI04SKv"
      },
      "source": [
        "df['Price']=df['Price'].apply(lambda x: x.strip('$'))"
      ],
      "execution_count": null,
      "outputs": []
    },
    {
      "cell_type": "code",
      "metadata": {
        "id": "dEsZZDT94bcX"
      },
      "source": [
        "df['Price'].value_counts()"
      ],
      "execution_count": null,
      "outputs": []
    },
    {
      "cell_type": "code",
      "metadata": {
        "id": "YRLiIrLIMiw0"
      },
      "source": [
        "#0인 것과 Free인 개수는 같다.\n",
        "#결측치는 가격인데 어떻게 알 수 있는 방법이 없다.\n",
        "#결측치가 없다. 잘 됐다!\n",
        "df['Price'].isna().sum()"
      ],
      "execution_count": null,
      "outputs": []
    },
    {
      "cell_type": "code",
      "metadata": {
        "id": "ELqQrqZf4onC"
      },
      "source": [
        "df['Price']=pd.to_numeric(df['Price'])\n",
        "df['Price'].hist();\n",
        "\n",
        "plt.xlabel('Price')\n",
        "plt.ylabel('Frequency')"
      ],
      "execution_count": null,
      "outputs": []
    },
    {
      "cell_type": "code",
      "metadata": {
        "id": "z2m2r8om4vbH"
      },
      "source": [
        "#이상치인가?\n",
        "#실제로 판매되고 있는 개그성 앱. 이걸 이상치로 봐야할 것인가? 쓸데없는 돈자랑이라는 컨셉에 충실한 가격 책정이며 구매한 사람이 3천명은 되는 듯하다.\n",
        "temp = df['Price'].apply(lambda x: True if x>100 else False)\n",
        "df[temp].head()"
      ],
      "execution_count": null,
      "outputs": []
    },
    {
      "cell_type": "markdown",
      "metadata": {
        "id": "qsvLrgQXzhHd"
      },
      "source": [
        "## column: 'Content Rating'\n",
        "Age group the app is targeted at - Children / Mature 21+ / Adult"
      ]
    },
    {
      "cell_type": "code",
      "metadata": {
        "id": "aQDdNxqENcAa"
      },
      "source": [
        "df['Content Rating'].value_counts()"
      ],
      "execution_count": null,
      "outputs": []
    },
    {
      "cell_type": "code",
      "metadata": {
        "id": "WnumYxgKvsAy"
      },
      "source": [
        "#Unrated된 것 확인 후 고쳐주기\n",
        "df.loc[df['Content Rating']=='Unrated']"
      ],
      "execution_count": null,
      "outputs": []
    },
    {
      "cell_type": "code",
      "metadata": {
        "id": "2r9mDQ88v4g7"
      },
      "source": [
        "#사진 편집 어플리케이션\n",
        "df.at[7312,'Content Rating'] = 'Everyone'\n",
        "#게임에 도움이 되는 툴 정도. 게임 등급과 별개.\n",
        "df.at[8266,'Content Rating'] = 'Everyone'"
      ],
      "execution_count": null,
      "outputs": []
    },
    {
      "cell_type": "code",
      "metadata": {
        "id": "huC-2PYQX8jF"
      },
      "source": [
        "df['Content Rating'].value_counts()"
      ],
      "execution_count": null,
      "outputs": []
    },
    {
      "cell_type": "code",
      "metadata": {
        "id": "eyyJXZaIYASI"
      },
      "source": [
        "sns.boxplot(x = 'Content Rating', y= 'Rating', data= df)"
      ],
      "execution_count": null,
      "outputs": []
    },
    {
      "cell_type": "code",
      "metadata": {
        "id": "qkbvHm0YYtnL"
      },
      "source": [
        "#성인 앱은 표본 수가 작아서 유의미하지 않다.\n",
        "#10대들을 대상으로 한 앱(사용자: 청소년, 성인)은 rating에서 큰 차이가 없는 것으로 보인다."
      ],
      "execution_count": null,
      "outputs": []
    },
    {
      "cell_type": "code",
      "metadata": {
        "id": "pE9yJGrAn5UX"
      },
      "source": [
        "#OrdinalEncoding으로 할 수 있다.\n",
        "encoder = OrdinalEncoder()\n",
        "df['Content Rating'] = encoder.fit_transform(df['Content Rating'])\n",
        "df['Content Rating'].value_counts()\n"
      ],
      "execution_count": null,
      "outputs": []
    },
    {
      "cell_type": "markdown",
      "metadata": {
        "id": "1Kw4950fzlFc"
      },
      "source": [
        "## column: 'Genres'\n",
        "An app can belong to multiple genres (apart from its main category). For eg, a musical family game will belong to"
      ]
    },
    {
      "cell_type": "code",
      "metadata": {
        "id": "nMM_4zOcNcr4"
      },
      "source": [
        "df['Genres'].value_counts()"
      ],
      "execution_count": null,
      "outputs": []
    },
    {
      "cell_type": "code",
      "metadata": {
        "id": "nXqfsXkumhQT"
      },
      "source": [
        "# ;를 통해서 두 가지 이상으로 여러 장르들을 표현한 것 같다.\n",
        "#앞 뒤가 각기 다르며 순서가 일정하지 않다, 주장르와 하위장르로 구분할 수 있을 것.\n",
        "sep = ';'\n",
        "rest = df['Genres'].apply(lambda x: x.split(sep)[0])\n",
        "rest.unique()"
      ],
      "execution_count": null,
      "outputs": []
    },
    {
      "cell_type": "code",
      "metadata": {
        "id": "deB2ZrA2-69i"
      },
      "source": [
        "rest.value_counts()"
      ],
      "execution_count": null,
      "outputs": []
    },
    {
      "cell_type": "code",
      "metadata": {
        "id": "o06JLr5G9tAl"
      },
      "source": [
        "df['Pri_Genres'] = rest\n",
        "df['Pri_Genres'].head()"
      ],
      "execution_count": null,
      "outputs": []
    },
    {
      "cell_type": "code",
      "metadata": {
        "id": "Zr9qZbJTGW-r"
      },
      "source": [
        "rest.value_counts()"
      ],
      "execution_count": null,
      "outputs": []
    },
    {
      "cell_type": "code",
      "metadata": {
        "id": "Mrf_NlkfXRyv"
      },
      "source": [
        "#값이 하나만 있는 Music & Audio는 music으로 옮겨도 되지 않을까?\n",
        "#옮겨도 무리 없는 앱.\n",
        "df.loc[df['Pri_Genres']=='Music & Audio']"
      ],
      "execution_count": null,
      "outputs": []
    },
    {
      "cell_type": "code",
      "metadata": {
        "id": "e141-d6KDmio"
      },
      "source": [
        "df.at[2142,'Pri_Genres'] = 'Music'"
      ],
      "execution_count": null,
      "outputs": []
    },
    {
      "cell_type": "code",
      "metadata": {
        "id": "y_xVjB8V779d"
      },
      "source": [
        "rest = df['Genres'].apply(lambda x: x.split(sep)[-1])\n",
        "rest.unique()"
      ],
      "execution_count": null,
      "outputs": []
    },
    {
      "cell_type": "code",
      "metadata": {
        "id": "v3-F_TaHInWc"
      },
      "source": [
        "rest.value_counts()"
      ],
      "execution_count": null,
      "outputs": []
    },
    {
      "cell_type": "code",
      "metadata": {
        "id": "Ww91hhnu9q6b"
      },
      "source": [
        "df['Sub_Genres'] = rest\n",
        "df['Sub_Genres'].head()"
      ],
      "execution_count": null,
      "outputs": []
    },
    {
      "cell_type": "code",
      "metadata": {
        "id": "G3HUeo66hypC"
      },
      "source": [
        "#Pri_Genres의 분포\n",
        "df['Pri_Genres'].value_counts().plot(kind=\"bar\")\n",
        "plt.title('Prime Genres of application from 2018 google playstore')\n",
        "plt.show()"
      ],
      "execution_count": null,
      "outputs": []
    },
    {
      "cell_type": "code",
      "metadata": {
        "id": "Tx5rP3TGiFdx"
      },
      "source": [
        "#Sub_Genres의 분포\n",
        "df['Sub_Genres'].value_counts().plot(kind=\"bar\")\n",
        "plt.title('Sub Genres of application from 2018 google playstore')\n",
        "plt.show()"
      ],
      "execution_count": null,
      "outputs": []
    },
    {
      "cell_type": "code",
      "metadata": {
        "id": "MfBeLQDZk4_M"
      },
      "source": [
        "#게임이 아닌 이상 해당 서브장르들을 면밀하게 볼 필요는 없다고 할 수 있다.\n",
        "#Category 항목과 Genre의 항목이 중복인 것들도 많기 때문이다.\n",
        "#해당 feature는 특정 Category를 개발하기로 선정한 뒤에 각각의 장르별 특성의 차이가 있는지 구분할 때 사용하는 것이 더 의미있다."
      ],
      "execution_count": null,
      "outputs": []
    },
    {
      "cell_type": "markdown",
      "metadata": {
        "id": "Xvi9glsXzo4E"
      },
      "source": [
        "## column: 'Last Updated'\n"
      ]
    },
    {
      "cell_type": "code",
      "metadata": {
        "id": "896GcDF_NdTK"
      },
      "source": [
        "from datetime import datetime, date\n",
        "df['Last Updated'] = pd.to_datetime(df['Last Updated'])\n",
        "df['Last Updated'].head()"
      ],
      "execution_count": null,
      "outputs": []
    },
    {
      "cell_type": "code",
      "metadata": {
        "id": "AWJBMUMGI_1E"
      },
      "source": [
        "df['Last Updated'].sort_values()"
      ],
      "execution_count": null,
      "outputs": []
    },
    {
      "cell_type": "code",
      "metadata": {
        "id": "EA-bSqpBAmEm"
      },
      "source": [
        "#최근에 업데이트한 것 = 유지보수를 꾸준히 하는 것이라고 볼 수 있을 듯.\n",
        "df['Last Updated'].sort_values(ascending=False)"
      ],
      "execution_count": null,
      "outputs": []
    },
    {
      "cell_type": "markdown",
      "metadata": {
        "id": "b0ktUH4PB6Ju"
      },
      "source": [
        "### 2018년 하반기 시점에서 예측을 할 수 있을 것이다."
      ]
    },
    {
      "cell_type": "code",
      "metadata": {
        "id": "NRjLhCncB_jN"
      },
      "source": [
        "temp = pd.to_datetime(df['Last Updated'])\n",
        "\n",
        "df['Last Updated'] = temp.apply(lambda x: date(2018,8,31) - datetime.date(x))\n",
        "df['Last Updated']"
      ],
      "execution_count": null,
      "outputs": []
    },
    {
      "cell_type": "code",
      "metadata": {
        "id": "X5q7EmJGWe9c"
      },
      "source": [
        "df['Last Updated'] = df['Last Updated'].dt.days\n",
        "df['Last Updated']"
      ],
      "execution_count": null,
      "outputs": []
    },
    {
      "cell_type": "markdown",
      "metadata": {
        "id": "fXMd959ozsJ9"
      },
      "source": [
        "## column: 'Current Ver'"
      ]
    },
    {
      "cell_type": "code",
      "metadata": {
        "id": "0nKtmW7oNd4a"
      },
      "source": [
        "df['Current Ver'].unique()"
      ],
      "execution_count": null,
      "outputs": []
    },
    {
      "cell_type": "markdown",
      "metadata": {
        "id": "jWlGIyEhzu6T"
      },
      "source": [
        "## column: 'Android Ver'"
      ]
    },
    {
      "cell_type": "code",
      "metadata": {
        "id": "RVZMlve2Ngq7"
      },
      "source": [
        "df['Android Ver'].unique()"
      ],
      "execution_count": null,
      "outputs": []
    },
    {
      "cell_type": "code",
      "metadata": {
        "id": "26XZg0JRHpXh"
      },
      "source": [
        "df['Android Ver'].isna().sum()"
      ],
      "execution_count": null,
      "outputs": []
    },
    {
      "cell_type": "code",
      "metadata": {
        "id": "NCYoWxCAHwiE"
      },
      "source": [
        "df.loc[df['Android Ver']== None]"
      ],
      "execution_count": null,
      "outputs": []
    },
    {
      "cell_type": "code",
      "metadata": {
        "id": "lTuOQHhMGesI"
      },
      "source": [
        "#데이터를 범위로 나타냈는데 복잡하고 지저분하다.\n",
        "#처음 올라간 버전과 끝의 버전을 의미하는 것으로 보인다.\n",
        "\n",
        "df['Android_Ver_begin'] = df['Android Ver'].apply(lambda x:str(x).split(' and ')[0].split(' - ')[0])\n",
        "df['Android_Ver_begin'] = df['Android_Ver_begin'].replace('4.4W','4.4')\n",
        "df['Android_Ver_end'] = df['Android Ver'].apply(lambda x:str(x).split(' and ')[-1].split(' - ')[-1])"
      ],
      "execution_count": null,
      "outputs": []
    },
    {
      "cell_type": "code",
      "metadata": {
        "id": "UEigYzMFHfpA"
      },
      "source": [
        "df['Android_Ver_begin'].unique()"
      ],
      "execution_count": null,
      "outputs": []
    },
    {
      "cell_type": "code",
      "metadata": {
        "id": "MoCvKtbiHFIG"
      },
      "source": [
        "df['Android_Ver_end'].unique()"
      ],
      "execution_count": null,
      "outputs": []
    },
    {
      "cell_type": "code",
      "metadata": {
        "id": "LVp5gyDGICvs"
      },
      "source": [
        "df.head()"
      ],
      "execution_count": null,
      "outputs": []
    },
    {
      "cell_type": "markdown",
      "metadata": {
        "id": "uGcRZ_v6XW9E"
      },
      "source": [
        "# Data Cleaning 이후 EDA, feature engineering 등"
      ]
    },
    {
      "cell_type": "markdown",
      "metadata": {
        "id": "Bn46Q91khyU0"
      },
      "source": [
        "## 불필요한 column이 된 Type, Genres, Android Ver 제거하기"
      ]
    },
    {
      "cell_type": "code",
      "metadata": {
        "id": "fO8UDNHDh3SD"
      },
      "source": [
        "df = df.drop(columns=['App','Type','Genres','Pri_Genres','Sub_Genres','Android Ver'])"
      ],
      "execution_count": null,
      "outputs": []
    },
    {
      "cell_type": "markdown",
      "metadata": {
        "id": "wL9NEZ8Rk02Z"
      },
      "source": [
        "## 앱 구매 매출\n",
        "\n",
        "installs * 앱 가격을 하면 각 앱이 사용자들이 앱을 구매함으로써 얻은 매출을 알 수 있을 것 같음.\n",
        "\n",
        "광고는 광고비* installs를 하면 될 것인데, 가격을 어떻게 측정할 것인지 파악해야 함."
      ]
    },
    {
      "cell_type": "code",
      "metadata": {
        "id": "Oma6wQdxky8x"
      },
      "source": [
        "df['Profit'] = df['Price'] * df['Installs']\n",
        "df['Profit'].value_counts()"
      ],
      "execution_count": null,
      "outputs": []
    },
    {
      "cell_type": "markdown",
      "metadata": {
        "id": "q8vKt6sUkcCZ"
      },
      "source": [
        "## column 순서 재정렬하기"
      ]
    },
    {
      "cell_type": "code",
      "metadata": {
        "id": "q9QLNevHkfq_"
      },
      "source": [
        "df = df[['Category','Size','Installs','Content Rating','Last Updated','Android_Ver_begin','Android_Ver_end','Current Ver','Profit','Price','Reviews','Rating']]"
      ],
      "execution_count": null,
      "outputs": []
    },
    {
      "cell_type": "code",
      "metadata": {
        "id": "Wm_JDoB0YTpW"
      },
      "source": [
        "df.head()"
      ],
      "execution_count": null,
      "outputs": []
    },
    {
      "cell_type": "code",
      "metadata": {
        "id": "98uqKZkhXbSj"
      },
      "source": [
        "df.describe()"
      ],
      "execution_count": null,
      "outputs": []
    },
    {
      "cell_type": "markdown",
      "metadata": {
        "id": "E9lCOSHsXzjX"
      },
      "source": [
        "## Category별 앱의 수"
      ]
    },
    {
      "cell_type": "code",
      "metadata": {
        "id": "oRKkHdNhXzMF"
      },
      "source": [
        "df['Category'].value_counts().plot(kind='bar')\n",
        "plt.title('number of apps for categories in google playstore')"
      ],
      "execution_count": null,
      "outputs": []
    },
    {
      "cell_type": "markdown",
      "metadata": {
        "id": "2GQ-y2HTYB5X"
      },
      "source": [
        "## Rating 분포도"
      ]
    },
    {
      "cell_type": "code",
      "metadata": {
        "id": "esIi5D7YXuFr"
      },
      "source": [
        "rcParams['figure.figsize'] = 11.7,8.27\n",
        "g = sns.kdeplot(df.Rating, color='Red', shade = True)\n",
        "g.set_xlabel('Rating')\n",
        "g.set_ylabel('Frequency')\n",
        "\n",
        "plt.axvline(x = df['Rating'].mean(), color='r', linestyle='--')\n",
        "plt.axvline(x = df['Rating'].median(), color='b', linestyle='--')\n",
        "\n",
        "plt.title('Distribution of Rating',size = 20)\n",
        "plt.legend({'Mean':df['Rating'].mean(),'Median':df['Rating'].median()})"
      ],
      "execution_count": null,
      "outputs": []
    },
    {
      "cell_type": "markdown",
      "metadata": {
        "id": "-ns3VkJ39-MY"
      },
      "source": [
        "### 기준모델\n",
        "\n",
        "일단, 0점은 평가가 되지 않은 것으로 최근에 출시되어 평점이 없거나, 인지도나 사용자가 없어서 평점이 없는 것으로 보인다. "
      ]
    },
    {
      "cell_type": "code",
      "metadata": {
        "id": "-by2fm3L_urQ"
      },
      "source": [
        "df.loc[df['Rating']==0]"
      ],
      "execution_count": null,
      "outputs": []
    },
    {
      "cell_type": "markdown",
      "metadata": {
        "id": "6xI70_qdAzyA"
      },
      "source": [
        "전체의 약 10% 정도가 평점이 0이다. 일반적인 회사라고 가정한다면 평균보다는 중앙값을 기준모델로 삼는 것이 좋을 것이라 생각한다."
      ]
    },
    {
      "cell_type": "code",
      "metadata": {
        "id": "4bTU06tYAzb5"
      },
      "source": [
        "df.groupby(by='Category').median()"
      ],
      "execution_count": null,
      "outputs": []
    },
    {
      "cell_type": "markdown",
      "metadata": {
        "id": "7BEIxIBJbHJJ"
      },
      "source": [
        "기준모델은 전체 앱의 중앙값인 4.2가 될 것이다."
      ]
    },
    {
      "cell_type": "code",
      "metadata": {
        "id": "fWKbyg75GTXV"
      },
      "source": [
        "base = df['Rating'].median()\n",
        "base"
      ],
      "execution_count": null,
      "outputs": []
    },
    {
      "cell_type": "markdown",
      "metadata": {
        "id": "2N1hZdJ4fcge"
      },
      "source": [
        "## Reviews 분포도\n",
        "이것은 어떻게 해석을 해야하는가?\n"
      ]
    },
    {
      "cell_type": "code",
      "metadata": {
        "id": "xXWtE7rife7I"
      },
      "source": [
        "df['Reviews'] = pd.to_numeric(df['Reviews'])\n",
        "\n",
        "df.hist(column='Reviews')\n",
        "\n",
        "plt.xlabel('Reviews')\n",
        "plt.ylabel('Frequency')\n",
        "\n",
        "plt.title('number of apps by Reviews')"
      ],
      "execution_count": null,
      "outputs": []
    },
    {
      "cell_type": "markdown",
      "metadata": {
        "id": "l3r79_9WfVZG"
      },
      "source": [
        "## Size 분포도"
      ]
    },
    {
      "cell_type": "code",
      "metadata": {
        "id": "wMjCoJX1fP9s"
      },
      "source": [
        "df.hist(column='Size')\n",
        "\n",
        "plt.xlabel('Size')\n",
        "plt.ylabel('Frequency')\n",
        "\n",
        "plt.title('number of apps by Size(k)')"
      ],
      "execution_count": null,
      "outputs": []
    },
    {
      "cell_type": "markdown",
      "metadata": {
        "id": "W09N3WyVfYsT"
      },
      "source": [
        "## Installs 분포도"
      ]
    },
    {
      "cell_type": "code",
      "metadata": {
        "id": "l0shv6DVfYS3"
      },
      "source": [
        "df['Installs'] = pd.to_numeric(df['Installs'])\n",
        "df['Installs'].hist();\n",
        "\n",
        "plt.xlabel('No. of Installs')\n",
        "plt.ylabel('Frequency')"
      ],
      "execution_count": null,
      "outputs": []
    },
    {
      "cell_type": "code",
      "metadata": {
        "id": "aXFvb11RhKnf"
      },
      "source": [
        "#크게 두 용량으로 나뉘는 것 같은데, 각각의 용량들에 따라 카테고리가 달라질까?"
      ],
      "execution_count": null,
      "outputs": []
    },
    {
      "cell_type": "code",
      "metadata": {
        "id": "kK1lUHcxSVEu"
      },
      "source": [
        "df['Installs'].describe()"
      ],
      "execution_count": null,
      "outputs": []
    },
    {
      "cell_type": "code",
      "metadata": {
        "id": "6JjiURIOS-Ny"
      },
      "source": [
        "low_install = df[df['Installs'] < 8.5]\n",
        "high_install = df[df['Installs'] >= 8.5]"
      ],
      "execution_count": null,
      "outputs": []
    },
    {
      "cell_type": "code",
      "metadata": {
        "id": "quTdEj1KTLce"
      },
      "source": [
        "low_install_mean = low_install.groupby(by='Category').mean()"
      ],
      "execution_count": null,
      "outputs": []
    },
    {
      "cell_type": "code",
      "metadata": {
        "id": "uN7D5K99TW5J"
      },
      "source": [
        "high_install_mean = high_install.groupby(by='Category').mean()"
      ],
      "execution_count": null,
      "outputs": []
    },
    {
      "cell_type": "code",
      "metadata": {
        "id": "SWz9WzNpTqh8"
      },
      "source": [
        "high_install_mean - low_install_mean\n",
        "#장르마다 용량의 차이가 있지만 유의미하다고 할 수 없다.\n",
        "#용량이 크다고해서 더 높은 평점을 받는다고 단정할 수 없으며 장르별로 콘텐츠가 많은 것(용량의 크기가 큰 것)"
      ],
      "execution_count": null,
      "outputs": []
    },
    {
      "cell_type": "code",
      "metadata": {
        "id": "PSF7yj3kVVuX"
      },
      "source": [
        "from scipy import stats\n",
        "stats.ttest_ind(high_install_mean, low_install_mean, axis= 0, equal_var = True,\n",
        "                nan_policy='propagate')"
      ],
      "execution_count": null,
      "outputs": []
    },
    {
      "cell_type": "code",
      "metadata": {
        "id": "YPGQONyGWDVL"
      },
      "source": [
        "#p-value를 보니 장르별 정량적 특성들(size, install, profit, price, review, rating)의 차이가 크지 않다."
      ],
      "execution_count": null,
      "outputs": []
    },
    {
      "cell_type": "markdown",
      "metadata": {
        "id": "TDMUKcvDrv0t"
      },
      "source": [
        "# 풀고자 하는 문제 : 앱들의 rating 예측하기\n"
      ]
    },
    {
      "cell_type": "markdown",
      "metadata": {
        "id": "XgiohyIeeT2W"
      },
      "source": [
        "## cardinality 확인\n",
        "cardinality확인은 데이터타입이 object인 것만 진행\n"
      ]
    },
    {
      "cell_type": "code",
      "metadata": {
        "id": "LfaCIyGjeTiR"
      },
      "source": [
        "df.describe(exclude='number').T.sort_values(by='unique')"
      ],
      "execution_count": null,
      "outputs": []
    },
    {
      "cell_type": "code",
      "metadata": {
        "id": "VdE-z9A-_kAU"
      },
      "source": [
        "#App은 ID와 같은 것..굳이 필요하지 않을 지도."
      ],
      "execution_count": null,
      "outputs": []
    },
    {
      "cell_type": "code",
      "metadata": {
        "id": "SUhLUllw_nN4"
      },
      "source": [
        "#Current Ver\n",
        "df['Current Ver'].value_counts()"
      ],
      "execution_count": null,
      "outputs": []
    },
    {
      "cell_type": "code",
      "metadata": {
        "id": "S5Wp6nTtAKER"
      },
      "source": [
        "#버전관리를 해야하는 문제가 아니기 때문에 없어도 될 것이다.\n",
        "df = df.drop(columns=['Current Ver'])"
      ],
      "execution_count": null,
      "outputs": []
    },
    {
      "cell_type": "code",
      "metadata": {
        "id": "pu_mAnuVveQ_"
      },
      "source": [
        "#Content Rating은 ordinal한 순서로 바꿔줄 수 있다.\n",
        "df['Content Rating'].value_counts()"
      ],
      "execution_count": null,
      "outputs": []
    },
    {
      "cell_type": "code",
      "metadata": {
        "id": "OtD73pgRvo65"
      },
      "source": [
        "#def new_contentRate(df):\n",
        "#  df['Content Rating'] = ''\n",
        "#\n",
        "#  for index in range(len(df)):\n",
        "#    level = df['Content Rating'][index]\n",
        "#\n",
        "#    if level == 'Everyone':\n",
        "#      df['Content Rating'][index] = int(0)\n",
        "#\n",
        "#    elif level == 'Everyone 10+':\n",
        "#      df['Content Rating'][index] = int(1)\n",
        "#\n",
        "#    elif level == 'Teen':\n",
        "#      df['Content Rating'][index] = int(2)\n",
        "#\n",
        "#    elif level == 'Mature 17+':\n",
        "#      df['Content Rating'][index] = int(3)\n",
        "#    \n",
        "#    elif level == 'Adults only 18+':\n",
        "#      df['Content Rating'][index] = int(4)\n",
        "#\n",
        "#  return df"
      ],
      "execution_count": null,
      "outputs": []
    },
    {
      "cell_type": "code",
      "metadata": {
        "id": "4X8Nqotx-tP6"
      },
      "source": [
        "#함수 실행\n",
        "#new_contentRate(df)"
      ],
      "execution_count": null,
      "outputs": []
    },
    {
      "cell_type": "code",
      "metadata": {
        "id": "fCgtDIT2upLn"
      },
      "source": [
        "#버전 업데이트와 곤련해서는 사실 그렇게 크게 중요하지 않는 것 같다.\n",
        "#앱의 유지보수와 관련된 데이터나 벤치마킹에 필요한 데이터이므로 현재의 분석에서 유용하다고 하기 어려울 것 같다.\n",
        "#분석의 시점에 따라 유용성이 크게 달라질 것이다. 현재 분석의 시점은 앱을 개발하기 전이라고 가정했다.\n",
        "\n",
        "df = df.drop(columns=['Android_Ver_end','Android_Ver_begin'])"
      ],
      "execution_count": null,
      "outputs": []
    },
    {
      "cell_type": "markdown",
      "metadata": {
        "id": "xQ_qHSxLYCHP"
      },
      "source": [
        "## feature들 간의 상관관계"
      ]
    },
    {
      "cell_type": "code",
      "metadata": {
        "id": "4C6iMO_JcQ34"
      },
      "source": [
        "df.dtypes\n",
        "corr = df.apply(lambda x: x.factorize()[0]).corr()\n",
        "sns.heatmap(corr, xticklabels=corr.columns, yticklabels=corr.columns,annot=True)"
      ],
      "execution_count": null,
      "outputs": []
    },
    {
      "cell_type": "markdown",
      "metadata": {
        "id": "JsvERUUlb2yC"
      },
      "source": [
        "대부분의 feature들과 상관관계는 크지 않는 것으로 보이나 rating과 install이 상대적으로 상관관계가 있는 것처럼 보인다."
      ]
    },
    {
      "cell_type": "markdown",
      "metadata": {
        "id": "r2jC1OIeaMvH"
      },
      "source": [
        "## 타겟 특성들의 클래스 비율 살펴보기"
      ]
    },
    {
      "cell_type": "code",
      "metadata": {
        "id": "NlFxQaQhc5NI"
      },
      "source": [
        "df['Rating'].describe()"
      ],
      "execution_count": null,
      "outputs": []
    },
    {
      "cell_type": "code",
      "metadata": {
        "id": "orGCwd0aV4pJ"
      },
      "source": [
        "#4.2보다 크면 상대적으로 좋은 평점, 4.2보다 낮으면 상대적으로 낮은 평점이라고 할 수 있다.\n",
        "#이상적으로 정규화가 되었다면 이라면 보통인 3이 가장 높아야하지만 구글 플레이스토어의 평점이 상대적으로 후한 편이라고 생각된다.\n",
        "highRating = df.copy()\n",
        "highRating = highRating.loc[highRating[\"Rating\"] >= 4.2]\n",
        "highRateNum = highRating.groupby('Category')['Rating'].nunique()\n",
        "highRateNum.sort_values()"
      ],
      "execution_count": null,
      "outputs": []
    },
    {
      "cell_type": "code",
      "metadata": {
        "id": "SwYd001HdpGT"
      },
      "source": [
        "#높은 rating을 가지면서 적은 개수인 카테고리에 신경을 써주어야한다.\n",
        "#왜냐하면 성공한 레퍼런스가 적은 앱을 개발한다는 건 레퍼러스가 적다는 것이고, \n",
        "#이는 개발자, 기획자, 디자이너가 새로운 혁신들을 내야 한다는 의미이기도 하기 때문이다.\n",
        "#여기에서는 entertainment 카테고리에 유의해야할 것이다.\n",
        "#해당 데이터는 1만개 정도 되는 토이 데이터로 데이터 수가 적으므로 이를 간과하고 진행해도 괜찮을 것이다.\n",
        "#그러나 데이터의 수가 많아지면 차이가 커질 것이기 때문에 더 큰 데이터를 가지고 모델링을 할 때 유의해야할 것이다."
      ],
      "execution_count": null,
      "outputs": []
    },
    {
      "cell_type": "markdown",
      "metadata": {
        "id": "SE4jFNhE1aER"
      },
      "source": [
        "# 모델 만들기"
      ]
    },
    {
      "cell_type": "markdown",
      "metadata": {
        "id": "jSgKrdP31dAU"
      },
      "source": [
        "## 인코딩"
      ]
    },
    {
      "cell_type": "code",
      "metadata": {
        "id": "wQzIFpFgqB5Q"
      },
      "source": [
        "# 데이터 분리해주기\n",
        "target = 'Rating'\n",
        "\n",
        "df_target = df[target]\n",
        "df_features = df.drop(target, axis=1)\n",
        "\n",
        "X_train, X_test, y_train, y_test = train_test_split(df_features,df_target, test_size=0.2 ,random_state=0)"
      ],
      "execution_count": null,
      "outputs": []
    },
    {
      "cell_type": "code",
      "metadata": {
        "id": "aOFYEWg6r04m"
      },
      "source": [
        "X_train, X_val, y_train, y_val = train_test_split(X_train, y_train, test_size=0.2 ,random_state=0)"
      ],
      "execution_count": null,
      "outputs": []
    },
    {
      "cell_type": "code",
      "metadata": {
        "id": "85YLdBnt0utN"
      },
      "source": [
        "X_train.shape, y_train.shape"
      ],
      "execution_count": null,
      "outputs": []
    },
    {
      "cell_type": "code",
      "metadata": {
        "id": "85n5bemJr_47"
      },
      "source": [
        "X_val.shape, y_val.shape"
      ],
      "execution_count": null,
      "outputs": []
    },
    {
      "cell_type": "code",
      "metadata": {
        "id": "OFazhb-q01RJ"
      },
      "source": [
        "X_test.shape, y_test.shape"
      ],
      "execution_count": null,
      "outputs": []
    },
    {
      "cell_type": "code",
      "metadata": {
        "id": "wFu2_4lF1Hkv"
      },
      "source": [
        "df.columns"
      ],
      "execution_count": null,
      "outputs": []
    },
    {
      "cell_type": "code",
      "metadata": {
        "id": "7dkWRtV10-s5"
      },
      "source": [
        "#특성별로 인코더를 따로 정해줄 필요가 있는 것 같아서 특성의 이름을 모아 리스트로 설정\n",
        "\n",
        "#onehot을 할 특성\n",
        "onehot = ['Category']\n",
        "\n",
        "#ordinal할 특성\n",
        "ordinal = ['Size','Installs','Content Rating','Last Updated','Profit','Price','Reviews']"
      ],
      "execution_count": null,
      "outputs": []
    },
    {
      "cell_type": "code",
      "metadata": {
        "id": "_V2Uy2ZXsB9b"
      },
      "source": [
        "encoder = OneHotEncoder(use_cat_names=True)\n",
        "X_train = encoder.fit_transform(X_train)\n",
        "X_val = encoder.fit_transform(X_val)\n",
        "X_test = encoder.fit_transform(X_test)"
      ],
      "execution_count": null,
      "outputs": []
    },
    {
      "cell_type": "markdown",
      "metadata": {
        "id": "ImcfHCh30xzc"
      },
      "source": [
        "## 기준모델 성능\n",
        "\n",
        "기준모델로 삼은 기준은 중앙값이기 때문에 50% 정도의 정확성을 가진다.\n",
        "즉, 머신러닝 모델들은 50%보다 높아야 기준모델보다 성능이 좋다고 할 수 있다."
      ]
    },
    {
      "cell_type": "markdown",
      "metadata": {
        "id": "tVimFeVIoMrm"
      },
      "source": [
        "## Model Selecting"
      ]
    },
    {
      "cell_type": "markdown",
      "metadata": {
        "id": "IL_nLgF1sKhV"
      },
      "source": [
        "## 선형회귀: 단순선형회귀, 다중선형회귀, 릿지회귀\n"
      ]
    },
    {
      "cell_type": "markdown",
      "metadata": {
        "id": "S3TnzDCNsXnA"
      },
      "source": [
        "### 단순&다중선형회귀\n"
      ]
    },
    {
      "cell_type": "code",
      "metadata": {
        "id": "aTpB0gbQsJ-k"
      },
      "source": [
        "#기준모델(Rating의 중앙값)\n",
        "base"
      ],
      "execution_count": null,
      "outputs": []
    },
    {
      "cell_type": "code",
      "metadata": {
        "id": "A3oHb0ivtHFv"
      },
      "source": [
        "model = LinearRegression()"
      ],
      "execution_count": null,
      "outputs": []
    },
    {
      "cell_type": "code",
      "metadata": {
        "id": "gtvrhCvMtMIs"
      },
      "source": [
        "#rating에 비교적 영향을 많이 주는 feature들을 추려서 feature 고르기\n",
        "df_corr = df.corr()\n",
        "df_corr = df_corr.replace(1, np.NaN).abs() #상관계수가 1인 것들을 결측치로 바꿔주고 각 상관계수를 절댓값으로 바꿔주기\n",
        "df_corr = df_corr[['Rating']]\n",
        "df_corr.sort_values(by=['Rating'], ascending = False)"
      ],
      "execution_count": null,
      "outputs": []
    },
    {
      "cell_type": "code",
      "metadata": {
        "id": "-ADz2QeuuLb7"
      },
      "source": [
        "#Size 하나만 가지고 학습시켜보기\n",
        "#이건 다중선형회귀가 아닌 단순선형회귀이다.\n",
        "features1 = ['Size']\n",
        "\n",
        "X_train1 = X_train[features1]\n",
        "y_train1 = y_train\n",
        "X_test1 = X_test[features1]\n",
        "y_test1 = y_test\n",
        "\n",
        "model1= LinearRegression()\n",
        "model1.fit(X_train1, y_train1)"
      ],
      "execution_count": null,
      "outputs": []
    },
    {
      "cell_type": "code",
      "metadata": {
        "id": "YVzuD9t6vLK1"
      },
      "source": [
        "from sklearn.metrics import mean_squared_error, mean_absolute_error, r2_score\n",
        "\n",
        "y_pred1 = model1.predict(X_train1)\n",
        "\n",
        "mae = mean_absolute_error(y_train1, y_pred1)\n",
        "print(f'훈련 에러(MAE): {mae}')\n",
        "\n",
        "mse = mean_squared_error(y_train1, y_pred1)\n",
        "print(f'훈련 에러(MSE): {mse}')\n",
        "\n",
        "train1_r2 = r2_score(y_train1, y_pred1)\n",
        "print(f'훈련 에러(R2): {train1_r2}')\n",
        "\n",
        "y_pred1 = model1.predict(X_test1)\n",
        "\n",
        "mae = mean_absolute_error(y_test1, y_pred1)\n",
        "print(f'테스트 에러(MAE): {mae}')\n",
        "\n",
        "mse = mean_squared_error(y_test1, y_pred1)\n",
        "print(f'테스트 에러(MSE): {mse}')\n",
        "\n",
        "test1_r2 = r2_score(y_test1, y_pred1)\n",
        "print(f'훈련 에러(R2): {test1_r2}')"
      ],
      "execution_count": null,
      "outputs": []
    },
    {
      "cell_type": "code",
      "metadata": {
        "id": "ktlPA7v1xBfi"
      },
      "source": [
        "#단순선형회귀는 0.02 정도의 설명령을 가지고 있으므로 너무 낮은 확률을 보여준다.\n",
        "#단순선형회귀는 사용하지 않는다."
      ],
      "execution_count": null,
      "outputs": []
    },
    {
      "cell_type": "code",
      "metadata": {
        "id": "qctELIddzg7D"
      },
      "source": [
        "#다중선형회귀: feature 2개, 선형회귀와 큰 차이 없음.\n",
        "features2 = ['Size','Last Updated']\n",
        "\n",
        "X_train2 = X_train[features2]\n",
        "y_train2 = y_train\n",
        "X_test2 = X_test[features2]\n",
        "y_test2 = y_test\n",
        "\n",
        "model2= LinearRegression()\n",
        "model2.fit(X_train2, y_train2)\n",
        "\n",
        "y_pred2 = model2.predict(X_train2)\n",
        "\n",
        "mae = mean_absolute_error(y_train2, y_pred2)\n",
        "print(f'훈련 에러(MAE): {mae}')\n",
        "\n",
        "train2_r2 = r2_score(y_train2, y_pred2)\n",
        "print(f'훈련 에러(R2): {train1_r2}')\n",
        "\n",
        "y_pred2 = model2.predict(X_test2)\n",
        "mae = mean_absolute_error(y_test2, y_pred2)\n",
        "print(f'테스트 에러(MAE): {mae}')\n",
        "\n",
        "test2_r2 = r2_score(y_test2, y_pred2)\n",
        "print(f'훈련 에러(R2): {test2_r2}')"
      ],
      "execution_count": null,
      "outputs": []
    },
    {
      "cell_type": "code",
      "metadata": {
        "id": "j6WoJHzoz1mo"
      },
      "source": [
        "#다중선형회귀: feature 3개, 단순선형회귀와 큰 차이가 없으며 설명령이 더 향상되지 않는다.\n",
        "features3 = ['Size','Last Updated']\n",
        "\n",
        "X_train3 = X_train[features3]\n",
        "y_train3 = y_train\n",
        "X_test3 = X_test[features3]\n",
        "y_test3 = y_test\n",
        "\n",
        "model3= LinearRegression()\n",
        "model3.fit(X_train3, y_train3)\n",
        "\n",
        "y_pred3 = model3.predict(X_train3)\n",
        "\n",
        "mae = mean_absolute_error(y_train3, y_pred3)\n",
        "print(f'훈련 에러(MAE): {mae}')\n",
        "\n",
        "mse = mean_squared_error(y_train3, y_pred3)\n",
        "print(f'훈련 에러(MSE): {mse}')\n",
        "\n",
        "train3_r2 = r2_score(y_train3, y_pred3)\n",
        "print(f'훈련 에러(R2): {train1_r2}')\n",
        "\n",
        "y_pred3 = model3.predict(X_test3)\n",
        "\n",
        "mae = mean_absolute_error(y_test3, y_pred3)\n",
        "print(f'테스트 에러(MAE): {mae}')\n",
        "\n",
        "mse = mean_squared_error(y_test3, y_pred3)\n",
        "print(f'테스트 에러(MSE): {mse}')\n",
        "\n",
        "test3_r2 = r2_score(y_test3, y_pred3)\n",
        "print(f'훈련 에러(R2): {test3_r2}')"
      ],
      "execution_count": null,
      "outputs": []
    },
    {
      "cell_type": "markdown",
      "metadata": {
        "id": "QpYwbvX81SQ1"
      },
      "source": [
        "### 릿지회귀"
      ]
    },
    {
      "cell_type": "code",
      "metadata": {
        "id": "AXNpZPcW1Psm"
      },
      "source": [
        "#릿지 회귀모델의 하이퍼파라미터 튜닝하기\n",
        "from sklearn.linear_model import RidgeCV\n",
        "\n",
        "alphas = [0.01, 0.05, 0.1, 0.15,0.2, 1.0, 10.0, 100.0]\n",
        "\n",
        "ridge = RidgeCV(alphas = alphas, \n",
        "                normalize=True, \n",
        "                cv=3)\n",
        "\n",
        "ridge.fit(X_train, y_train)\n",
        "\n",
        "print('alpha: ', ridge.alpha_)"
      ],
      "execution_count": null,
      "outputs": []
    },
    {
      "cell_type": "code",
      "metadata": {
        "id": "P489Yrrjwpy8"
      },
      "source": [
        "model = Ridge(alpha = 0.2, normalize=True)\n",
        "model.fit(X_train, y_train)\n",
        "y_pred = model.predict(X_test)\n",
        "\n",
        "mae= mean_absolute_error(y_test, y_pred)\n",
        "r2 = r2_score(y_test, y_pred)\n",
        "\n",
        "print(f'Test MAE: {mae}')\n",
        "print(f'Test R2: {r2}')"
      ],
      "execution_count": null,
      "outputs": []
    },
    {
      "cell_type": "code",
      "metadata": {
        "id": "fAp3WqyQyKJx"
      },
      "source": [
        "#릿지회귀로도 거의 설명을 못한다고 볼 수 있다.\n",
        "#선형회귀모델은 사용할 수 없다."
      ],
      "execution_count": null,
      "outputs": []
    },
    {
      "cell_type": "markdown",
      "metadata": {
        "id": "AbvVvHFCsx8q"
      },
      "source": [
        "## 분류모델: Logistic Regression, RandomForest"
      ]
    },
    {
      "cell_type": "code",
      "metadata": {
        "id": "_xJqxX0k7UHG"
      },
      "source": [
        "#분류를 위해 타겟을 0과 1로 나눠줄 필요가 있을 듯하다.\n",
        "f = lambda x: 1 if x >= 4.2 else 0\n",
        "df['Rating'] = df['Rating'].map(f)"
      ],
      "execution_count": null,
      "outputs": []
    },
    {
      "cell_type": "code",
      "metadata": {
        "id": "YwO6VBvXhjjU"
      },
      "source": [
        "df['Rating'].value_counts()"
      ],
      "execution_count": null,
      "outputs": []
    },
    {
      "cell_type": "code",
      "metadata": {
        "id": "oTHWoQig7hp5"
      },
      "source": [
        "target = 'Rating'\n",
        "\n",
        "df_target = df[target]\n",
        "df_features = df.drop(target, axis=1)\n",
        "\n",
        "X_train, X_test, y_train, y_test = train_test_split(df_features,df_target, test_size=0.2 ,random_state=0)\n",
        "X_train, X_val, y_train, y_val = train_test_split(X_train, y_train, test_size=0.2 ,random_state=0)"
      ],
      "execution_count": null,
      "outputs": []
    },
    {
      "cell_type": "markdown",
      "metadata": {
        "id": "U5fcmV8z2-Dl"
      },
      "source": [
        "## Logistic Regression"
      ]
    },
    {
      "cell_type": "code",
      "metadata": {
        "id": "V_lc10VS3Anc"
      },
      "source": [
        "from sklearn.preprocessing import StandardScaler\n",
        "\n",
        "pipe = make_pipeline(\n",
        "    OneHotEncoder(cols='Category'),\n",
        "    SimpleImputer(strategy='median'),\n",
        "    LogisticRegression(random_state=2,n_jobs=-1)\n",
        ")\n",
        "\n",
        "pipe.fit(X_train, y_train)\n",
        "\n",
        "\n",
        "print('검증 세트 예측 정확도', pipe.score(X_val, y_val))"
      ],
      "execution_count": null,
      "outputs": []
    },
    {
      "cell_type": "code",
      "metadata": {
        "id": "XiUncbs4l-VY"
      },
      "source": [
        "encoder = OneHotEncoder(use_cat_names=True, cols='Category')\n",
        "X_train_encoded = encoder.fit_transform(X_train)\n",
        "X_val_encoded = encoder.fit_transform(X_val)"
      ],
      "execution_count": null,
      "outputs": []
    },
    {
      "cell_type": "code",
      "metadata": {
        "id": "IfhSJX8KklUw"
      },
      "source": [
        "#1) 하이퍼파라미터 C 조정 :큰 차이가 없다.\n",
        "#객체 생성 & 모델 훈련\n",
        "\n",
        "logistic_001 = LogisticRegression(C=0.01, max_iter= 1000).fit(X_train_encoded, y_train)\n",
        "logistic_01 = LogisticRegression(C=0.1, max_iter= 1000).fit(X_train_encoded, y_train)\n",
        "logistic_0 = LogisticRegression(max_iter= 1000).fit(X_train_encoded, y_train)\n",
        "logistic_1 = LogisticRegression(C=1, max_iter= 1000).fit(X_train_encoded, y_train)\n",
        "logistic_10 = LogisticRegression(C=10, max_iter= 1000).fit(X_train_encoded, y_train)\n",
        "\n",
        "print('C=0.01 정확도', logistic_001.score(X_val_encoded, y_val))\n",
        "print('C=0.1 정확도', logistic_01.score(X_val_encoded, y_val))\n",
        "print('C=0 정확도', logistic_0.score(X_val_encoded, y_val))\n",
        "print('C=1 정확도', logistic_1.score(X_val_encoded, y_val))\n",
        "print('C=10 정확도', logistic_10.score(X_val_encoded, y_val))"
      ],
      "execution_count": null,
      "outputs": []
    },
    {
      "cell_type": "code",
      "metadata": {
        "id": "g3oQBfR8metY"
      },
      "source": [
        "#2) 표준화\n",
        "scaler = StandardScaler()\n",
        "X_train_scaled = scaler.fit_transform(X_train_encoded)\n",
        "X_val_scaled = scaler.transform(X_val_encoded)"
      ],
      "execution_count": null,
      "outputs": []
    },
    {
      "cell_type": "code",
      "metadata": {
        "id": "cuu5mrzImmmT"
      },
      "source": [
        "#객체 생성 & 모델 훈련\n",
        "\n",
        "logistic_001 = LogisticRegression(C=0.01, max_iter= 1000).fit(X_train_scaled, y_train)\n",
        "logistic_01 = LogisticRegression(C=0.1, max_iter= 1000).fit(X_train_scaled, y_train)\n",
        "logistic_0 = LogisticRegression(max_iter= 1000).fit(X_train_scaled, y_train)\n",
        "logistic_1 = LogisticRegression(C=1, max_iter= 1000).fit(X_train_scaled, y_train)\n",
        "logistic_10 = LogisticRegression(C=10, max_iter= 1000).fit(X_train_scaled, y_train)\n",
        "\n",
        "print('C=0.01 정확도', logistic_001.score(X_val_scaled, y_val))\n",
        "print('C=0.1 정확도', logistic_01.score(X_val_scaled, y_val))\n",
        "print('C=0 정확도', logistic_0.score(X_val_scaled, y_val))\n",
        "print('C=1 정확도', logistic_1.score(X_val_scaled, y_val))\n",
        "print('C=10 정확도', logistic_10.score(X_val_scaled, y_val))"
      ],
      "execution_count": null,
      "outputs": []
    },
    {
      "cell_type": "code",
      "metadata": {
        "id": "7S3i9B5xnPBd"
      },
      "source": [
        "#원래의 값이 더 낫다.\n",
        "print('검증 세트 정확도', pipe.score(X_val,y_val))\n",
        "print('테스트 세트 정확도', pipe.score(X_test,y_test))"
      ],
      "execution_count": null,
      "outputs": []
    },
    {
      "cell_type": "markdown",
      "metadata": {
        "id": "txuEwraS3BLb"
      },
      "source": [
        "## RandomForest"
      ]
    },
    {
      "cell_type": "code",
      "metadata": {
        "id": "7trLLnvn3Wdx"
      },
      "source": [
        "pipe = make_pipeline(\n",
        "    OneHotEncoder(),\n",
        "    SimpleImputer(),\n",
        "    RandomForestClassifier(n_jobs=-1, random_state=10, oob_score=True)\n",
        ")\n",
        "\n",
        "pipe.fit(X_train, y_train)\n",
        "print('검정정확도: ', pipe.score(X_val, y_val))\n",
        "\n",
        "y_pred = pipe.predict(X_val)\n",
        "print('검증 f1 score: ',f1_score(y_val, y_pred))"
      ],
      "execution_count": null,
      "outputs": []
    },
    {
      "cell_type": "code",
      "metadata": {
        "id": "lOtRBxOJoDGz"
      },
      "source": [
        "#하이퍼 파라미터 조정하기\n",
        "\n",
        "from sklearn.model_selection import RandomizedSearchCV\n",
        "\n",
        "parameters = {   \n",
        "    'randomforestclassifier__max_depth': range(1, 20, 2), \n",
        "    'randomforestclassifier__max_features': range(1, 20, 2), \n",
        "    'randomforestclassifier__min_samples_leaf' : range(1, 20, 2)\n",
        "}\n",
        "    \n",
        "\n",
        "rf_classifier = RandomizedSearchCV(\n",
        "    pipe, \n",
        "    param_distributions=parameters, \n",
        "    n_iter=10, \n",
        "    cv=5,\n",
        "    scoring='accuracy',\n",
        "    verbose=1,\n",
        ")\n",
        "\n",
        "rf_classifier.fit(X_train, y_train);"
      ],
      "execution_count": null,
      "outputs": []
    },
    {
      "cell_type": "code",
      "metadata": {
        "id": "GJa4tdOPslN-"
      },
      "source": [
        "# RandomCV 결과 확인\n",
        "print('Best Parameters: ', rf_classifier.best_params_)\n",
        "print('MAE: ', -rf_classifier.best_score_)"
      ],
      "execution_count": null,
      "outputs": []
    },
    {
      "cell_type": "code",
      "metadata": {
        "id": "zUGAtF75sq-7"
      },
      "source": [
        "# 가장 최고의 모델로 학습 -> validation dataset score\n",
        "best_pipe = rf_classifier.best_estimator_\n",
        "\n",
        "y_pred = best_pipe.predict(X_val)\n",
        "mae = mean_absolute_error(y_val, y_pred)\n",
        "print(f'검증세트 MAE: {mae}')\n",
        "print(classification_report(y_val, y_pred))"
      ],
      "execution_count": null,
      "outputs": []
    },
    {
      "cell_type": "code",
      "metadata": {
        "id": "cSyO9ml63qw4"
      },
      "source": [
        "y_pred = best_pipe.predict(X_test)\n",
        "\n",
        "print('\\n <test 정확도> \\n', accuracy_score(y_test, y_pred))\n",
        "print('\\n <classification metrics> \\n', classification_report(y_pred, y_test))\n",
        "print('\\n <f1 score> \\n', f1_score(y_pred, y_test))"
      ],
      "execution_count": null,
      "outputs": []
    },
    {
      "cell_type": "code",
      "metadata": {
        "id": "Wft1ip9btFTi"
      },
      "source": [
        "#ROC Curve\n",
        "from sklearn.metrics import roc_curve\n",
        "\n",
        "y_pred_proba = best_pipe.predict_proba(X_val)[:,1]\n",
        "\n",
        "fpr, tpr, thresholds = roc_curve(y_val, y_pred_proba)\n",
        "\n",
        "roc = pd.DataFrame({\n",
        "    'FPR(Fall-out)': fpr,\n",
        "    'TPR(Recall)': tpr,\n",
        "    'Threshold': thresholds\n",
        "})\n",
        "\n",
        "plt.scatter(fpr, tpr)\n",
        "plt.title('ROC curve for RandomForest best pipe')\n",
        "plt.xlabel('FPR(Fall-out)')\n",
        "plt.ylabel('TPR(Recall)')"
      ],
      "execution_count": null,
      "outputs": []
    },
    {
      "cell_type": "code",
      "metadata": {
        "id": "E-RkTgBowZ1o"
      },
      "source": [
        "from sklearn.metrics import roc_auc_score\n",
        "\n",
        "auc_score = roc_auc_score(y_val, y_pred_proba)\n",
        "auc_score"
      ],
      "execution_count": null,
      "outputs": []
    },
    {
      "cell_type": "markdown",
      "metadata": {
        "id": "LsIhnIyE2KvZ"
      },
      "source": [
        "## xgboost \n"
      ]
    },
    {
      "cell_type": "code",
      "metadata": {
        "id": "cgandW89_6Dl"
      },
      "source": [
        "y_train.value_counts(normalize=True)"
      ],
      "execution_count": null,
      "outputs": []
    },
    {
      "cell_type": "code",
      "metadata": {
        "id": "mfsrB9YK_7oG"
      },
      "source": [
        "ratio = 0.44448/0.55552\n",
        "ratio"
      ],
      "execution_count": null,
      "outputs": []
    },
    {
      "cell_type": "code",
      "metadata": {
        "id": "o3uIQAAG2N5I"
      },
      "source": [
        "from xgboost import XGBClassifier\n",
        "\n",
        "processor = make_pipeline(\n",
        "    OrdinalEncoder(), \n",
        "    SimpleImputer(strategy='median')\n",
        ")\n",
        "\n",
        "X_train_processed = processor.fit_transform(X_train)\n",
        "X_val_processed = processor.transform(X_val)\n",
        "\n",
        "eval_set = [(X_train_processed, y_train), \n",
        "            (X_val_processed, y_val)]\n",
        "\n",
        "# XGBoost 분류기를 학습시키기\n",
        "model = XGBClassifier(n_estimators=1000, verbosity=0, n_jobs=-1, scale_pos_weight=ratio)\n",
        "model.fit(X_train_processed, y_train, eval_set=eval_set, eval_metric='auc', \n",
        "          early_stopping_rounds=10)"
      ],
      "execution_count": null,
      "outputs": []
    },
    {
      "cell_type": "code",
      "metadata": {
        "id": "soum88wX2z9r"
      },
      "source": [
        "X_test_processed = processor.transform(X_test)\n",
        "X_val_processed = processor.transform(X_val)\n",
        "\n",
        "class_index = 1\n",
        "\n",
        "y_pred_proba = model.predict_proba(X_test_processed)[:, class_index]\n",
        "\n",
        "print(f'Test AUC for class \"{model.classes_[class_index]}\":')\n",
        "print(roc_auc_score(y_test, y_pred_proba))"
      ],
      "execution_count": null,
      "outputs": []
    },
    {
      "cell_type": "code",
      "metadata": {
        "id": "XEq7XpdLCv1C"
      },
      "source": [
        "y_pred = model.predict(X_val_processed)\n",
        "print('검증 정확도',accuracy_score(y_val,y_pred))"
      ],
      "execution_count": null,
      "outputs": []
    },
    {
      "cell_type": "code",
      "metadata": {
        "id": "syNjUaIC-HrY"
      },
      "source": [
        "y_pred = model.predict(X_test_processed)\n",
        "print('테스트 정확도',accuracy_score(y_test,y_pred))"
      ],
      "execution_count": null,
      "outputs": []
    },
    {
      "cell_type": "code",
      "metadata": {
        "id": "eM0erB2PAyEY"
      },
      "source": [
        "from sklearn.metrics import classification_report\n",
        "y_test_pred = model.predict(X_test_processed)\n",
        "print(classification_report(y_test, y_test_pred))"
      ],
      "execution_count": null,
      "outputs": []
    },
    {
      "cell_type": "markdown",
      "metadata": {
        "id": "G9jqU8Jp31I6"
      },
      "source": [
        "# 가장 설명력이 좋은 것으로 보이는 randomforest bestpipe를 채택한다."
      ]
    },
    {
      "cell_type": "markdown",
      "metadata": {
        "id": "FWGrBLB11W23"
      },
      "source": [
        "# 머신러닝 모델 해석"
      ]
    },
    {
      "cell_type": "code",
      "metadata": {
        "id": "1kxaoIDK4LrV"
      },
      "source": [
        "!pip install eli5"
      ],
      "execution_count": null,
      "outputs": []
    },
    {
      "cell_type": "code",
      "metadata": {
        "id": "KTMjuaaT1YYN"
      },
      "source": [
        "import eli5\n",
        "from eli5.sklearn import PermutationImportance\n",
        "\n",
        "best_pipe.named_steps"
      ],
      "execution_count": null,
      "outputs": []
    },
    {
      "cell_type": "code",
      "metadata": {
        "id": "ght0tkKj4n19"
      },
      "source": [
        "permuter = PermutationImportance(\n",
        "    best_pipe.named_steps['randomforestclassifier'],\n",
        "    scoring = 'accuracy',\n",
        "    n_iter=5,\n",
        "    random_state=2\n",
        ")"
      ],
      "execution_count": null,
      "outputs": []
    },
    {
      "cell_type": "code",
      "metadata": {
        "id": "62k3Pu5C5HIq"
      },
      "source": [
        "X_test_transformed = best_pipe.named_steps['onehotencoder'].transform(X_test)\n",
        "\n",
        "permuter.fit(X_test_transformed, y_test);"
      ],
      "execution_count": null,
      "outputs": []
    },
    {
      "cell_type": "code",
      "metadata": {
        "id": "Oe1AQnxM5X8g"
      },
      "source": [
        "feature_names = X_test_transformed.columns.tolist()\n",
        "pd.Series(permuter.feature_importances_,feature_names).sort_values()"
      ],
      "execution_count": null,
      "outputs": []
    },
    {
      "cell_type": "code",
      "metadata": {
        "id": "SU73wtxC6aYW"
      },
      "source": [
        "eli5.show_weights(\n",
        "    permuter,\n",
        "    top=None,\n",
        "    feature_names = feature_names\n",
        ")"
      ],
      "execution_count": null,
      "outputs": []
    },
    {
      "cell_type": "markdown",
      "metadata": {
        "id": "NRkx5-rr6mhR"
      },
      "source": [
        "가장 높은 값을 가지는 특성은 Reviews의 개수와 Installs(다운로드 수)라고 할 수 있다."
      ]
    },
    {
      "cell_type": "markdown",
      "metadata": {
        "id": "kX7tVpnW66gn"
      },
      "source": [
        "## 가장 큰 영향을 주는 Reviews에 대해서 PDP 만들기"
      ]
    },
    {
      "cell_type": "code",
      "metadata": {
        "id": "z-_sP2Dj7s-X"
      },
      "source": [
        "!pip install pdpbox"
      ],
      "execution_count": null,
      "outputs": []
    },
    {
      "cell_type": "code",
      "metadata": {
        "id": "jcizKZFv64tv"
      },
      "source": [
        "from pdpbox.pdp import pdp_isolate, pdp_plot\n",
        "from sklearn.metrics import r2_score\n",
        "\n",
        "feature = 'Reviews'\n",
        "\n",
        "isolated = pdp_isolate(\n",
        "    model = best_pipe,\n",
        "    dataset = X_train,\n",
        "    model_features = X_train.columns,\n",
        "    feature = feature\n",
        ")\n",
        "\n",
        "pdp_plot(isolated, feature_name=feature);"
      ],
      "execution_count": null,
      "outputs": []
    },
    {
      "cell_type": "code",
      "metadata": {
        "id": "XDoCZGor86Dv"
      },
      "source": [
        "feature = 'Installs'\n",
        "\n",
        "isolated = pdp_isolate(\n",
        "    model = best_pipe,\n",
        "    dataset = X_train,\n",
        "    model_features = X_train.columns,\n",
        "    feature = feature\n",
        ")\n",
        "\n",
        "pdp_plot(isolated, feature_name=feature);"
      ],
      "execution_count": null,
      "outputs": []
    },
    {
      "cell_type": "markdown",
      "metadata": {
        "id": "hwM2pw9G9IfJ"
      },
      "source": [
        "## SHAP"
      ]
    },
    {
      "cell_type": "code",
      "metadata": {
        "id": "pilW7dFZ9N6F"
      },
      "source": [
        "!pip install shap"
      ],
      "execution_count": null,
      "outputs": []
    },
    {
      "cell_type": "code",
      "metadata": {
        "id": "IsBK_Qud9p_n"
      },
      "source": [
        "import shap"
      ],
      "execution_count": null,
      "outputs": []
    },
    {
      "cell_type": "code",
      "metadata": {
        "id": "GbKHDB_XER1S"
      },
      "source": [
        "best_pipe"
      ],
      "execution_count": null,
      "outputs": []
    },
    {
      "cell_type": "code",
      "metadata": {
        "id": "DErL6Ju5Glx4"
      },
      "source": [
        "encoder = OneHotEncoder(use_cat_names=True)\n",
        "X_train = encoder.fit_transform(X_train)\n",
        "X_val = encoder.fit_transform(X_val)\n",
        "X_test = encoder.fit_transform(X_test)"
      ],
      "execution_count": null,
      "outputs": []
    },
    {
      "cell_type": "code",
      "metadata": {
        "id": "7S6DwhkK9RTR"
      },
      "source": [
        "#force plot\n",
        "shap.initjs();\n",
        "\n",
        "explainer = shap.TreeExplainer(best_pipe['randomforestclassifier'])\n",
        "observations = best_pipe['simpleimputer'].transform(X_test)\n",
        "\n",
        "shap_values = explainer.shap_values(X_train)\n",
        "\n",
        "\n",
        "\n",
        "shap.force_plot(\n",
        "    base_value = explainer.expected_value,\n",
        "    shap_values = shap_values,\n",
        "    features = X_test.columns\n",
        ")"
      ],
      "execution_count": null,
      "outputs": []
    },
    {
      "cell_type": "code",
      "metadata": {
        "id": "UUbNB2AMGxEv"
      },
      "source": [
        "#summary plot\n",
        "shap_values = explainer.shap_values(observations)\n",
        "shap.summary_plot(shap_values, X_test, plot_type=\"bar\")"
      ],
      "execution_count": null,
      "outputs": []
    },
    {
      "cell_type": "code",
      "metadata": {
        "id": "r7BZYFgGHBEu"
      },
      "source": [
        "#feature importance\n",
        "importances = pd.Series(best_pipe['randomforestclassifier'].feature_importances_, X_train.columns)\n",
        "\n",
        "n = 13\n",
        "plt.figure(figsize=(10, n/2))\n",
        "plt.title(f'Top {n}features')\n",
        "importances.sort_values()[-n:].plot.barh();"
      ],
      "execution_count": null,
      "outputs": []
    }
  ]
}